{
  "nbformat": 4,
  "nbformat_minor": 0,
  "metadata": {
    "colab": {
      "provenance": [],
      "gpuType": "V100"
    },
    "kernelspec": {
      "name": "python3",
      "display_name": "Python 3"
    },
    "language_info": {
      "name": "python"
    },
    "accelerator": "GPU"
  },
  "cells": [
    {
      "cell_type": "code",
      "source": [
        "%load_ext autoreload\n",
        "%autoreload 2"
      ],
      "metadata": {
        "id": "sDscVcMJtAzx"
      },
      "execution_count": 1,
      "outputs": []
    },
    {
      "cell_type": "code",
      "execution_count": 2,
      "metadata": {
        "colab": {
          "base_uri": "https://localhost:8080/"
        },
        "id": "E8L4uJhA2vNQ",
        "outputId": "9d3a1e36-4d60-4b62-dec6-31b985dc8ece"
      },
      "outputs": [
        {
          "output_type": "stream",
          "name": "stdout",
          "text": [
            "Cloning into 'mlflow-basecode'...\n",
            "remote: Enumerating objects: 55, done.\u001b[K\n",
            "remote: Counting objects: 100% (55/55), done.\u001b[K\n",
            "remote: Compressing objects: 100% (35/35), done.\u001b[K\n",
            "remote: Total 55 (delta 17), reused 40 (delta 10), pack-reused 0\u001b[K\n",
            "Receiving objects: 100% (55/55), 115.10 KiB | 1.60 MiB/s, done.\n",
            "Resolving deltas: 100% (17/17), done.\n"
          ]
        }
      ],
      "source": [
        "!git clone https://github.com/long-practice/mlflow-basecode.git"
      ]
    },
    {
      "cell_type": "code",
      "source": [
        "%cd mlflow-basecode"
      ],
      "metadata": {
        "colab": {
          "base_uri": "https://localhost:8080/"
        },
        "id": "X27COqFLqwjs",
        "outputId": "c63c4b73-a34c-48ab-e92f-e15cffb52c28"
      },
      "execution_count": 3,
      "outputs": [
        {
          "output_type": "stream",
          "name": "stdout",
          "text": [
            "/content/mlflow-basecode\n"
          ]
        }
      ]
    },
    {
      "cell_type": "code",
      "source": [
        "import pandas as pd\n",
        "import numpy as np\n",
        "\n",
        "train = pd.read_csv('./data/train.csv')\n",
        "test = pd.read_csv('./data/test.csv')"
      ],
      "metadata": {
        "id": "sE5nbmc3EdFL"
      },
      "execution_count": 4,
      "outputs": []
    },
    {
      "cell_type": "code",
      "source": [
        "!pip install optuna --quiet"
      ],
      "metadata": {
        "colab": {
          "base_uri": "https://localhost:8080/"
        },
        "id": "KgqFzwLErf0r",
        "outputId": "d178038e-7d0c-4c00-f2ab-b5975d72d265"
      },
      "execution_count": 5,
      "outputs": [
        {
          "output_type": "stream",
          "name": "stdout",
          "text": [
            "\u001b[2K     \u001b[90m━━━━━━━━━━━━━━━━━━━━━━━━━━━━━━━━━━━━━━━\u001b[0m \u001b[32m404.2/404.2 kB\u001b[0m \u001b[31m6.8 MB/s\u001b[0m eta \u001b[36m0:00:00\u001b[0m\n",
            "\u001b[2K     \u001b[90m━━━━━━━━━━━━━━━━━━━━━━━━━━━━━━━━━━━━━━\u001b[0m \u001b[32m226.0/226.0 kB\u001b[0m \u001b[31m24.7 MB/s\u001b[0m eta \u001b[36m0:00:00\u001b[0m\n",
            "\u001b[2K     \u001b[90m━━━━━━━━━━━━━━━━━━━━━━━━━━━━━━━━━━━━━━━━\u001b[0m \u001b[32m78.7/78.7 kB\u001b[0m \u001b[31m8.9 MB/s\u001b[0m eta \u001b[36m0:00:00\u001b[0m\n",
            "\u001b[?25h"
          ]
        }
      ]
    },
    {
      "cell_type": "code",
      "source": [
        "from src.pipeline import Pipeline\n",
        "from preprocessing.preprocess import Preprocess"
      ],
      "metadata": {
        "id": "kUX6Lmdeq0lB"
      },
      "execution_count": 6,
      "outputs": []
    },
    {
      "cell_type": "code",
      "source": [
        "pipe = Pipeline(train, test)\n",
        "pipe.run()"
      ],
      "metadata": {
        "colab": {
          "base_uri": "https://localhost:8080/"
        },
        "id": "sbje7MGGrZ0K",
        "outputId": "72b320e0-2f24-42a6-bbe4-a55714f56225"
      },
      "execution_count": 7,
      "outputs": [
        {
          "output_type": "stream",
          "name": "stderr",
          "text": [
            "[I 2023-10-02 05:35:50,089] A new study created in memory with name: no-name-402ced5c-b7be-455f-a8df-09590fc609b2\n"
          ]
        },
        {
          "output_type": "stream",
          "name": "stdout",
          "text": [
            "Preprocessing Set Missing Value\n",
            "Preprocessing Set Missing Value\n",
            "Preprocessing Remove Outlier\n",
            "column name is : id\n",
            "lower_bound is : -2703.0\n",
            "upper_bound is : 8109.0\n",
            "----------------------------------------\n",
            "column name is : CementComponent\n",
            "lower_bound is : -28.25000000000003\n",
            "upper_bound is : 616.95\n",
            "----------------------------------------\n",
            "column name is : BlastFurnaceSlag\n",
            "lower_bound is : -183.89999999999998\n",
            "upper_bound is : 306.5\n",
            "----------------------------------------\n",
            "column name is : FlyAshComponent\n",
            "lower_bound is : -118.5\n",
            "upper_bound is : 197.5\n",
            "----------------------------------------\n",
            "column name is : WaterComponent\n",
            "lower_bound is : 149.75\n",
            "upper_bound is : 217.35000000000002\n",
            "----------------------------------------\n",
            "column name is : SuperplasticizerComponent\n",
            "lower_bound is : -12.075000000000001\n",
            "upper_bound is : 20.125\n",
            "----------------------------------------\n",
            "column name is : CoarseAggregateComponent\n",
            "lower_bound is : 775.0000000000001\n",
            "upper_bound is : 1210.1999999999998\n",
            "----------------------------------------\n",
            "column name is : FineAggregateComponent\n",
            "lower_bound is : 604.2499999999999\n",
            "upper_bound is : 951.0500000000001\n",
            "----------------------------------------\n",
            "column name is : AgeInDays\n",
            "lower_bound is : -66.5\n",
            "upper_bound is : 129.5\n",
            "----------------------------------------\n",
            "column name is : Strength\n",
            "lower_bound is : -9.674999999999997\n",
            "upper_bound is : 79.16499999999999\n",
            "----------------------------------------\n",
            "Preprocessing Remove Outlier\n",
            "column name is : id\n",
            "lower_bound is : 3605.0\n",
            "upper_bound is : 10813.0\n",
            "----------------------------------------\n",
            "column name is : CementComponent\n",
            "lower_bound is : -26.49999999999997\n",
            "upper_bound is : 614.3\n",
            "----------------------------------------\n",
            "column name is : BlastFurnaceSlag\n",
            "lower_bound is : -175.8\n",
            "upper_bound is : 293.0\n",
            "----------------------------------------\n",
            "column name is : FlyAshComponent\n",
            "lower_bound is : -135.0\n",
            "upper_bound is : 225.0\n",
            "----------------------------------------\n",
            "column name is : WaterComponent\n",
            "lower_bound is : 149.25\n",
            "upper_bound is : 217.64999999999998\n",
            "----------------------------------------\n",
            "column name is : SuperplasticizerComponent\n",
            "lower_bound is : -12.149999999999999\n",
            "upper_bound is : 20.25\n",
            "----------------------------------------\n",
            "column name is : CoarseAggregateComponent\n",
            "lower_bound is : 775.0000000000001\n",
            "upper_bound is : 1210.1999999999998\n",
            "----------------------------------------\n",
            "column name is : FineAggregateComponent\n",
            "lower_bound is : 616.7499999999999\n",
            "upper_bound is : 943.5500000000001\n",
            "----------------------------------------\n",
            "column name is : AgeInDays\n",
            "lower_bound is : -66.5\n",
            "upper_bound is : 129.5\n",
            "----------------------------------------\n",
            "Preprocessing Add Feature\n",
            "Preprocessing Add Feature\n",
            "(4325, 12) (4325,) (1082, 12) (1082,)\n"
          ]
        },
        {
          "output_type": "stream",
          "name": "stderr",
          "text": [
            "[I 2023-10-02 05:35:51,575] Trial 0 finished with value: 13.5198244303766 and parameters: {'max_depth': 5, 'learning_rate': 0.35375047395712206, 'n_estimators': 503, 'min_child_weight': 8, 'gamma': 0.5551835528804246, 'subsample': 0.8597497693464806, 'colsample_bytree': 0.4378249330206244, 'reg_alpha': 0.14646434410492595, 'reg_lambda': 0.5001541179436843}. Best is trial 0 with value: 13.5198244303766.\n",
            "[I 2023-10-02 05:35:53,645] Trial 1 finished with value: 32.01613031664293 and parameters: {'max_depth': 5, 'learning_rate': 0.5983257793734648, 'n_estimators': 700, 'min_child_weight': 3, 'gamma': 0.3124510933221293, 'subsample': 0.23108416052786543, 'colsample_bytree': 0.8491726133844923, 'reg_alpha': 0.4270254570010241, 'reg_lambda': 0.39968307336181025}. Best is trial 0 with value: 13.5198244303766.\n",
            "[I 2023-10-02 05:36:05,542] Trial 2 finished with value: 16.62063257347899 and parameters: {'max_depth': 13, 'learning_rate': 0.666370595813044, 'n_estimators': 687, 'min_child_weight': 9, 'gamma': 0.2533353158826346, 'subsample': 0.6500105727296034, 'colsample_bytree': 0.6439446167660616, 'reg_alpha': 0.022748526797697788, 'reg_lambda': 0.7239614477291393}. Best is trial 0 with value: 13.5198244303766.\n",
            "[I 2023-10-02 05:36:11,653] Trial 3 finished with value: 14.486273505608947 and parameters: {'max_depth': 11, 'learning_rate': 0.41643234765656584, 'n_estimators': 706, 'min_child_weight': 6, 'gamma': 0.788560816380574, 'subsample': 0.6968948263512921, 'colsample_bytree': 0.5092776143613016, 'reg_alpha': 0.44454063156913176, 'reg_lambda': 0.9037672031702927}. Best is trial 0 with value: 13.5198244303766.\n",
            "[I 2023-10-02 05:36:15,535] Trial 4 finished with value: 16.505187188772144 and parameters: {'max_depth': 12, 'learning_rate': 0.5046155620707209, 'n_estimators': 605, 'min_child_weight': 2, 'gamma': 0.3532763145868489, 'subsample': 0.455327501674935, 'colsample_bytree': 0.5268443254609915, 'reg_alpha': 0.758371718696617, 'reg_lambda': 0.5004905340692654}. Best is trial 0 with value: 13.5198244303766.\n",
            "[I 2023-10-02 05:36:18,034] Trial 5 finished with value: 1404188.253335255 and parameters: {'max_depth': 12, 'learning_rate': 0.8149723534329438, 'n_estimators': 618, 'min_child_weight': 8, 'gamma': 0.7998672156489144, 'subsample': 0.13532435166058177, 'colsample_bytree': 0.733331948894596, 'reg_alpha': 0.7275954367197429, 'reg_lambda': 0.9886459685918852}. Best is trial 0 with value: 13.5198244303766.\n",
            "[I 2023-10-02 05:36:23,908] Trial 6 finished with value: 129.23467081171745 and parameters: {'max_depth': 1, 'learning_rate': 0.8173582773643038, 'n_estimators': 998, 'min_child_weight': 2, 'gamma': 0.8793080063665182, 'subsample': 0.016504507324208446, 'colsample_bytree': 0.8302636608305695, 'reg_alpha': 0.48925590396468144, 'reg_lambda': 0.11171972286659054}. Best is trial 0 with value: 13.5198244303766.\n",
            "[I 2023-10-02 05:36:29,901] Trial 7 finished with value: 15.597224309849556 and parameters: {'max_depth': 18, 'learning_rate': 0.6051427731339865, 'n_estimators': 543, 'min_child_weight': 10, 'gamma': 0.9931108762937739, 'subsample': 0.7025661385031363, 'colsample_bytree': 0.7601624961893515, 'reg_alpha': 0.5914666107069321, 'reg_lambda': 0.7298363208623287}. Best is trial 0 with value: 13.5198244303766.\n",
            "[I 2023-10-02 05:36:33,088] Trial 8 finished with value: 18.950796167661988 and parameters: {'max_depth': 19, 'learning_rate': 0.7427947733758198, 'n_estimators': 522, 'min_child_weight': 7, 'gamma': 0.7863447883135042, 'subsample': 0.535714372421324, 'colsample_bytree': 0.2578908098453901, 'reg_alpha': 0.385156514144444, 'reg_lambda': 0.4302969198585843}. Best is trial 0 with value: 13.5198244303766.\n",
            "[I 2023-10-02 05:36:35,969] Trial 9 finished with value: 13.190218975703802 and parameters: {'max_depth': 16, 'learning_rate': 0.1937427093478527, 'n_estimators': 837, 'min_child_weight': 8, 'gamma': 0.20203164231445978, 'subsample': 0.1456400270737726, 'colsample_bytree': 0.15120963536035284, 'reg_alpha': 0.838792673454563, 'reg_lambda': 0.7050717014226904}. Best is trial 9 with value: 13.190218975703802.\n"
          ]
        }
      ]
    },
    {
      "cell_type": "code",
      "source": [
        "import pickle\n",
        "\n",
        "xgb_model = None\n",
        "with open('./artifact/XGB_model.pkl', 'rb') as f:\n",
        "    xgb_model = pickle.load(f)\n",
        "submission = pd.read_csv('./data/sample_submission.csv')\n",
        "submission['Strength'] = xgb_model.predict(test)"
      ],
      "metadata": {
        "id": "f5BZl6fSsmnU"
      },
      "execution_count": 8,
      "outputs": []
    },
    {
      "cell_type": "code",
      "source": [
        "submission"
      ],
      "metadata": {
        "colab": {
          "base_uri": "https://localhost:8080/",
          "height": 424
        },
        "id": "pg1uEH53tSk-",
        "outputId": "c3867ea6-cfea-4186-bdce-1c977f781267"
      },
      "execution_count": 9,
      "outputs": [
        {
          "output_type": "execute_result",
          "data": {
            "text/plain": [
              "        id   Strength\n",
              "0     5407  60.098377\n",
              "1     5408  20.706198\n",
              "2     5409  29.460512\n",
              "3     5410  47.716866\n",
              "4     5411   3.987035\n",
              "...    ...        ...\n",
              "3600  9007  27.421167\n",
              "3601  9008  35.043701\n",
              "3602  9009  50.556957\n",
              "3603  9010  42.603149\n",
              "3604  9011  26.629543\n",
              "\n",
              "[3605 rows x 2 columns]"
            ],
            "text/html": [
              "\n",
              "  <div id=\"df-b13d7298-8180-487e-89a1-244be8df162e\" class=\"colab-df-container\">\n",
              "    <div>\n",
              "<style scoped>\n",
              "    .dataframe tbody tr th:only-of-type {\n",
              "        vertical-align: middle;\n",
              "    }\n",
              "\n",
              "    .dataframe tbody tr th {\n",
              "        vertical-align: top;\n",
              "    }\n",
              "\n",
              "    .dataframe thead th {\n",
              "        text-align: right;\n",
              "    }\n",
              "</style>\n",
              "<table border=\"1\" class=\"dataframe\">\n",
              "  <thead>\n",
              "    <tr style=\"text-align: right;\">\n",
              "      <th></th>\n",
              "      <th>id</th>\n",
              "      <th>Strength</th>\n",
              "    </tr>\n",
              "  </thead>\n",
              "  <tbody>\n",
              "    <tr>\n",
              "      <th>0</th>\n",
              "      <td>5407</td>\n",
              "      <td>60.098377</td>\n",
              "    </tr>\n",
              "    <tr>\n",
              "      <th>1</th>\n",
              "      <td>5408</td>\n",
              "      <td>20.706198</td>\n",
              "    </tr>\n",
              "    <tr>\n",
              "      <th>2</th>\n",
              "      <td>5409</td>\n",
              "      <td>29.460512</td>\n",
              "    </tr>\n",
              "    <tr>\n",
              "      <th>3</th>\n",
              "      <td>5410</td>\n",
              "      <td>47.716866</td>\n",
              "    </tr>\n",
              "    <tr>\n",
              "      <th>4</th>\n",
              "      <td>5411</td>\n",
              "      <td>3.987035</td>\n",
              "    </tr>\n",
              "    <tr>\n",
              "      <th>...</th>\n",
              "      <td>...</td>\n",
              "      <td>...</td>\n",
              "    </tr>\n",
              "    <tr>\n",
              "      <th>3600</th>\n",
              "      <td>9007</td>\n",
              "      <td>27.421167</td>\n",
              "    </tr>\n",
              "    <tr>\n",
              "      <th>3601</th>\n",
              "      <td>9008</td>\n",
              "      <td>35.043701</td>\n",
              "    </tr>\n",
              "    <tr>\n",
              "      <th>3602</th>\n",
              "      <td>9009</td>\n",
              "      <td>50.556957</td>\n",
              "    </tr>\n",
              "    <tr>\n",
              "      <th>3603</th>\n",
              "      <td>9010</td>\n",
              "      <td>42.603149</td>\n",
              "    </tr>\n",
              "    <tr>\n",
              "      <th>3604</th>\n",
              "      <td>9011</td>\n",
              "      <td>26.629543</td>\n",
              "    </tr>\n",
              "  </tbody>\n",
              "</table>\n",
              "<p>3605 rows × 2 columns</p>\n",
              "</div>\n",
              "    <div class=\"colab-df-buttons\">\n",
              "\n",
              "  <div class=\"colab-df-container\">\n",
              "    <button class=\"colab-df-convert\" onclick=\"convertToInteractive('df-b13d7298-8180-487e-89a1-244be8df162e')\"\n",
              "            title=\"Convert this dataframe to an interactive table.\"\n",
              "            style=\"display:none;\">\n",
              "\n",
              "  <svg xmlns=\"http://www.w3.org/2000/svg\" height=\"24px\" viewBox=\"0 -960 960 960\">\n",
              "    <path d=\"M120-120v-720h720v720H120Zm60-500h600v-160H180v160Zm220 220h160v-160H400v160Zm0 220h160v-160H400v160ZM180-400h160v-160H180v160Zm440 0h160v-160H620v160ZM180-180h160v-160H180v160Zm440 0h160v-160H620v160Z\"/>\n",
              "  </svg>\n",
              "    </button>\n",
              "\n",
              "  <style>\n",
              "    .colab-df-container {\n",
              "      display:flex;\n",
              "      gap: 12px;\n",
              "    }\n",
              "\n",
              "    .colab-df-convert {\n",
              "      background-color: #E8F0FE;\n",
              "      border: none;\n",
              "      border-radius: 50%;\n",
              "      cursor: pointer;\n",
              "      display: none;\n",
              "      fill: #1967D2;\n",
              "      height: 32px;\n",
              "      padding: 0 0 0 0;\n",
              "      width: 32px;\n",
              "    }\n",
              "\n",
              "    .colab-df-convert:hover {\n",
              "      background-color: #E2EBFA;\n",
              "      box-shadow: 0px 1px 2px rgba(60, 64, 67, 0.3), 0px 1px 3px 1px rgba(60, 64, 67, 0.15);\n",
              "      fill: #174EA6;\n",
              "    }\n",
              "\n",
              "    .colab-df-buttons div {\n",
              "      margin-bottom: 4px;\n",
              "    }\n",
              "\n",
              "    [theme=dark] .colab-df-convert {\n",
              "      background-color: #3B4455;\n",
              "      fill: #D2E3FC;\n",
              "    }\n",
              "\n",
              "    [theme=dark] .colab-df-convert:hover {\n",
              "      background-color: #434B5C;\n",
              "      box-shadow: 0px 1px 3px 1px rgba(0, 0, 0, 0.15);\n",
              "      filter: drop-shadow(0px 1px 2px rgba(0, 0, 0, 0.3));\n",
              "      fill: #FFFFFF;\n",
              "    }\n",
              "  </style>\n",
              "\n",
              "    <script>\n",
              "      const buttonEl =\n",
              "        document.querySelector('#df-b13d7298-8180-487e-89a1-244be8df162e button.colab-df-convert');\n",
              "      buttonEl.style.display =\n",
              "        google.colab.kernel.accessAllowed ? 'block' : 'none';\n",
              "\n",
              "      async function convertToInteractive(key) {\n",
              "        const element = document.querySelector('#df-b13d7298-8180-487e-89a1-244be8df162e');\n",
              "        const dataTable =\n",
              "          await google.colab.kernel.invokeFunction('convertToInteractive',\n",
              "                                                    [key], {});\n",
              "        if (!dataTable) return;\n",
              "\n",
              "        const docLinkHtml = 'Like what you see? Visit the ' +\n",
              "          '<a target=\"_blank\" href=https://colab.research.google.com/notebooks/data_table.ipynb>data table notebook</a>'\n",
              "          + ' to learn more about interactive tables.';\n",
              "        element.innerHTML = '';\n",
              "        dataTable['output_type'] = 'display_data';\n",
              "        await google.colab.output.renderOutput(dataTable, element);\n",
              "        const docLink = document.createElement('div');\n",
              "        docLink.innerHTML = docLinkHtml;\n",
              "        element.appendChild(docLink);\n",
              "      }\n",
              "    </script>\n",
              "  </div>\n",
              "\n",
              "\n",
              "<div id=\"df-e4bf734d-d6c2-4802-86ee-43b3a9d7854f\">\n",
              "  <button class=\"colab-df-quickchart\" onclick=\"quickchart('df-e4bf734d-d6c2-4802-86ee-43b3a9d7854f')\"\n",
              "            title=\"Suggest charts.\"\n",
              "            style=\"display:none;\">\n",
              "\n",
              "<svg xmlns=\"http://www.w3.org/2000/svg\" height=\"24px\"viewBox=\"0 0 24 24\"\n",
              "     width=\"24px\">\n",
              "    <g>\n",
              "        <path d=\"M19 3H5c-1.1 0-2 .9-2 2v14c0 1.1.9 2 2 2h14c1.1 0 2-.9 2-2V5c0-1.1-.9-2-2-2zM9 17H7v-7h2v7zm4 0h-2V7h2v10zm4 0h-2v-4h2v4z\"/>\n",
              "    </g>\n",
              "</svg>\n",
              "  </button>\n",
              "\n",
              "<style>\n",
              "  .colab-df-quickchart {\n",
              "      --bg-color: #E8F0FE;\n",
              "      --fill-color: #1967D2;\n",
              "      --hover-bg-color: #E2EBFA;\n",
              "      --hover-fill-color: #174EA6;\n",
              "      --disabled-fill-color: #AAA;\n",
              "      --disabled-bg-color: #DDD;\n",
              "  }\n",
              "\n",
              "  [theme=dark] .colab-df-quickchart {\n",
              "      --bg-color: #3B4455;\n",
              "      --fill-color: #D2E3FC;\n",
              "      --hover-bg-color: #434B5C;\n",
              "      --hover-fill-color: #FFFFFF;\n",
              "      --disabled-bg-color: #3B4455;\n",
              "      --disabled-fill-color: #666;\n",
              "  }\n",
              "\n",
              "  .colab-df-quickchart {\n",
              "    background-color: var(--bg-color);\n",
              "    border: none;\n",
              "    border-radius: 50%;\n",
              "    cursor: pointer;\n",
              "    display: none;\n",
              "    fill: var(--fill-color);\n",
              "    height: 32px;\n",
              "    padding: 0;\n",
              "    width: 32px;\n",
              "  }\n",
              "\n",
              "  .colab-df-quickchart:hover {\n",
              "    background-color: var(--hover-bg-color);\n",
              "    box-shadow: 0 1px 2px rgba(60, 64, 67, 0.3), 0 1px 3px 1px rgba(60, 64, 67, 0.15);\n",
              "    fill: var(--button-hover-fill-color);\n",
              "  }\n",
              "\n",
              "  .colab-df-quickchart-complete:disabled,\n",
              "  .colab-df-quickchart-complete:disabled:hover {\n",
              "    background-color: var(--disabled-bg-color);\n",
              "    fill: var(--disabled-fill-color);\n",
              "    box-shadow: none;\n",
              "  }\n",
              "\n",
              "  .colab-df-spinner {\n",
              "    border: 2px solid var(--fill-color);\n",
              "    border-color: transparent;\n",
              "    border-bottom-color: var(--fill-color);\n",
              "    animation:\n",
              "      spin 1s steps(1) infinite;\n",
              "  }\n",
              "\n",
              "  @keyframes spin {\n",
              "    0% {\n",
              "      border-color: transparent;\n",
              "      border-bottom-color: var(--fill-color);\n",
              "      border-left-color: var(--fill-color);\n",
              "    }\n",
              "    20% {\n",
              "      border-color: transparent;\n",
              "      border-left-color: var(--fill-color);\n",
              "      border-top-color: var(--fill-color);\n",
              "    }\n",
              "    30% {\n",
              "      border-color: transparent;\n",
              "      border-left-color: var(--fill-color);\n",
              "      border-top-color: var(--fill-color);\n",
              "      border-right-color: var(--fill-color);\n",
              "    }\n",
              "    40% {\n",
              "      border-color: transparent;\n",
              "      border-right-color: var(--fill-color);\n",
              "      border-top-color: var(--fill-color);\n",
              "    }\n",
              "    60% {\n",
              "      border-color: transparent;\n",
              "      border-right-color: var(--fill-color);\n",
              "    }\n",
              "    80% {\n",
              "      border-color: transparent;\n",
              "      border-right-color: var(--fill-color);\n",
              "      border-bottom-color: var(--fill-color);\n",
              "    }\n",
              "    90% {\n",
              "      border-color: transparent;\n",
              "      border-bottom-color: var(--fill-color);\n",
              "    }\n",
              "  }\n",
              "</style>\n",
              "\n",
              "  <script>\n",
              "    async function quickchart(key) {\n",
              "      const quickchartButtonEl =\n",
              "        document.querySelector('#' + key + ' button');\n",
              "      quickchartButtonEl.disabled = true;  // To prevent multiple clicks.\n",
              "      quickchartButtonEl.classList.add('colab-df-spinner');\n",
              "      try {\n",
              "        const charts = await google.colab.kernel.invokeFunction(\n",
              "            'suggestCharts', [key], {});\n",
              "      } catch (error) {\n",
              "        console.error('Error during call to suggestCharts:', error);\n",
              "      }\n",
              "      quickchartButtonEl.classList.remove('colab-df-spinner');\n",
              "      quickchartButtonEl.classList.add('colab-df-quickchart-complete');\n",
              "    }\n",
              "    (() => {\n",
              "      let quickchartButtonEl =\n",
              "        document.querySelector('#df-e4bf734d-d6c2-4802-86ee-43b3a9d7854f button');\n",
              "      quickchartButtonEl.style.display =\n",
              "        google.colab.kernel.accessAllowed ? 'block' : 'none';\n",
              "    })();\n",
              "  </script>\n",
              "</div>\n",
              "    </div>\n",
              "  </div>\n"
            ]
          },
          "metadata": {},
          "execution_count": 9
        }
      ]
    },
    {
      "cell_type": "code",
      "source": [
        "submission.to_csv('./prediction/submission.csv', index=False)"
      ],
      "metadata": {
        "id": "biX4HUG50fDI"
      },
      "execution_count": 10,
      "outputs": []
    },
    {
      "cell_type": "code",
      "source": [],
      "metadata": {
        "id": "CC2s8-rn0ryR"
      },
      "execution_count": null,
      "outputs": []
    }
  ]
}